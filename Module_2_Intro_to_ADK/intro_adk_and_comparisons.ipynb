{
 "cells": [
  {
   "cell_type": "markdown",
   "id": "620ee774",
   "metadata": {},
   "source": [
    "## Google ADK - Introduction\n"
   ]
  },
  {
   "cell_type": "markdown",
   "id": "9ae0eb5a",
   "metadata": {},
   "source": [
    "### Q What is ADK (Agent Development Kit)?\n",
    "\n",
    "Agent Development Kit (ADK) is a flexible and modular framework for developing and deploying **AI agents**. While optimized for Gemini and the Google ecosystem, ADK is model-agnostic(can use GPT/Claude), deployment-agnostic(local or cloud), and is built for compatibility with other frameworks. ADK was designed to make agent development feel more like software development, to make it easier for developers to create, deploy, and orchestrate agentic architectures that range from simple tasks to complex workflows.\n",
    "\n",
    "Key ideas:\n",
    "\n",
    "- **Agents** are self-contained execution units that pursue goals, call tools, and can coordinate with other agents.\n",
    "- **Tools** give agents capabilities (search, code execution, RAG, custom Python functions, third-party APIs).\n",
    "- **Workflows** orchestrate agents (e.g., run in sequence, in parallel, or iterate in loops).\n",
    "- **Memory/Session State** lets agents carry context across steps/sessions.\n",
    "- **Callbacks/Guardrails** hook into lifecycle stages for safety, logging, and control.\n",
    "- **Dev Experience** includes an adk CLI and an interactive web UI for local testing."
   ]
  },
  {
   "cell_type": "markdown",
   "id": "a35d7e40",
   "metadata": {},
   "source": [
    "### Core Concepts: Agents, Tools, Workflows, Memory, Callbacks\n",
    "\n",
    "#### Agents\n",
    "\n",
    "- An **Agent** is a goal-driven unit that can reason, call tools, and produce outputs.\n",
    "- A **root agent** is your entry point. It can delegate work to **sub-agents** specialized for tasks (research, coding, analysis, etc.).\n",
    "- Multi-agent systems in ADK are built by composing multiple agents with defined responsibilities.\n",
    "\n",
    "#### Tools\n",
    "\n",
    "- **Built-in tools** (e.g., Google Search, code executors, RAG) enable common capabilities out-of-the-box.\n",
    "- **Function tools** are custom Python functions you expose to agents.\n",
    "- **Third-party tools** or even **agents-as-tools** can be integrated for complex workloads.\n",
    "\n",
    "#### Workflows\n",
    "- **Sequential**: sub-agents run in a fixed order (A → B → C).\n",
    "- **Parallel**: sub-agents run concurrently and aggregate results.\n",
    "- **Loop**: iterate until a condition or iteration budget is met (e.g., refine a draft until it passes checks).\n",
    "\n",
    "#### Memory & Session State\n",
    "- Persist useful state across turns or app restarts (e.g., user profile, intermediate artifacts).\n",
    "\n",
    "\n",
    "#### Callbacks / Guardrails\n",
    "- Hook into agent lifecycle (before/after tool calls, on error) to enforce constraints, redact data, or log decisions.\n"
   ]
  },
  {
   "cell_type": "markdown",
   "id": "f7fc1485",
   "metadata": {},
   "source": [
    "### Strengths, Limitations & Gotchas (ADK)\n",
    "\n",
    "#### Strengths\n",
    "\n",
    "- Clean separation of agents, tools, and workflows.\n",
    "- Built-in Sequential/Parallel/Loop workflow agents.\n",
    "- Solid dev experience: CLI, local web UI, samples, codelabs.\n",
    "- Works beyond Gemini (bring GPT/Claude), while keeping Gemini-first ergonomics.\n",
    "\n",
    "#### Limitations / Gotchas\n",
    "\n",
    "- Certain built-in tools are Gemini-only; plan non-Gemini fallbacks.\n",
    "- Some built-in tools may not be callable from sub-agents; design tool usage near the root if you hit errors.\n",
    "- An agent instance is typically added once as a sub-agent (clone if needed under different names).\n",
    "- As with other frameworks, APIs evolve. Keep an eye on release notes and adk --help output.\n",
    "\n",
    "We’ll show workarounds (e.g., wrapping capabilities as function tools) in later modules.\n",
    "\n",
    "\n",
    "### When to Choose Which Framework?\n",
    "#### Choose ADK when you want:\n",
    "\n",
    "- First-class workflow agents (sequential/parallel/loop) and a cohesive DX.\n",
    "- Strong Gemini integration but flexibility to use non-Gemini models.\n",
    "- A clean separation between agents, tools, and orchestration.\n",
    "\n",
    "#### Choose LangChain/LangGraph when you want:\n",
    "\n",
    "- Maximum ecosystem integrations and graph semantics (stateful nodes, retries, persistence).\n",
    "- LangSmith tracing/evals and platform deployment options.\n",
    "\n",
    "#### Choose CrewAI when you want:\n",
    "\n",
    "- Persona-driven crews collaborating autonomously, or Flows for deterministic control.\n",
    "\n",
    "#### Choose AutoGen when you want:\n",
    "\n",
    "- Event-driven multi-agent conversations (agents + humans + tools) as the primary abstraction."
   ]
  },
  {
   "cell_type": "markdown",
   "id": "3e9fab38",
   "metadata": {},
   "source": []
  }
 ],
 "metadata": {
  "kernelspec": {
   "display_name": "adk-venv",
   "language": "python",
   "name": "python3"
  },
  "language_info": {
   "name": "python",
   "version": "3.12.11"
  }
 },
 "nbformat": 4,
 "nbformat_minor": 5
}
